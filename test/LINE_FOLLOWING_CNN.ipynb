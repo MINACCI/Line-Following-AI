{
 "cells": [
  {
   "cell_type": "code",
   "execution_count": 26,
   "metadata": {},
   "outputs": [],
   "source": [
    "import numpy as np\n",
    "import tensorflow\n",
    "from tensorflow.keras.models import Sequential\n",
    "from tensorflow.keras.layers import Dense, Dropout, Activation, Flatten, Conv2D, MaxPooling2D\n",
    "from tensorflow.keras.callbacks import TensorBoard"
   ]
  },
  {
   "cell_type": "code",
   "execution_count": 27,
   "metadata": {},
   "outputs": [
    {
     "name": "stdout",
     "output_type": "stream",
     "text": [
      "3\n",
      "(3697, 32, 32, 1)\n",
      "(3697,)\n"
     ]
    }
   ],
   "source": [
    "#loading features and labels\n",
    "features = np.load(\"../model/LineFollowing_features_v1.npy\")\n",
    "label = np.load(\"../model/LineFollowing_label_v1.npy\")\n",
    "\n",
    "\n",
    "#defining path of the future saved model\n",
    "model_path =\"../model/\"\n",
    "name = \"Line_Following_CNN_v1\"\n",
    "model_name = (\"{}{}.h5\".format(model_path, name))\n",
    "tensorboard = TensorBoard(log_dir=\"C:\\\\logs\\\\train\\\\{}\".format(name))\n",
    "\n",
    "\n",
    "features_shape = features.shape[1:]\n",
    "n_classes = len(set(label))\n",
    "features = features/255.0\n",
    "\n",
    "print(n_classes)\n",
    "print(features.shape)\n",
    "print(label.shape)"
   ]
  },
  {
   "cell_type": "code",
   "execution_count": 29,
   "metadata": {},
   "outputs": [
    {
     "name": "stdout",
     "output_type": "stream",
     "text": [
      "Train on 2957 samples, validate on 740 samples\n",
      "Epoch 1/20\n",
      "2957/2957 [==============================] - 5s 2ms/sample - loss: 0.5227 - accuracy: 0.7876 - val_loss: 0.1806 - val_accuracy: 0.9419\n",
      "Epoch 2/20\n",
      "2957/2957 [==============================] - 4s 1ms/sample - loss: 0.1215 - accuracy: 0.9628 - val_loss: 0.0896 - val_accuracy: 0.9757\n",
      "Epoch 3/20\n",
      "2957/2957 [==============================] - 4s 1ms/sample - loss: 0.0707 - accuracy: 0.9790 - val_loss: 0.0637 - val_accuracy: 0.9716\n",
      "Epoch 4/20\n",
      "2957/2957 [==============================] - 4s 1ms/sample - loss: 0.0524 - accuracy: 0.9834 - val_loss: 0.0502 - val_accuracy: 0.9811\n",
      "Epoch 5/20\n",
      "2957/2957 [==============================] - 4s 1ms/sample - loss: 0.0495 - accuracy: 0.9834 - val_loss: 0.0739 - val_accuracy: 0.9676\n",
      "Epoch 6/20\n",
      "2957/2957 [==============================] - 4s 1ms/sample - loss: 0.0433 - accuracy: 0.9865 - val_loss: 0.0862 - val_accuracy: 0.9662\n",
      "Epoch 7/20\n",
      "2957/2957 [==============================] - 4s 1ms/sample - loss: 0.0293 - accuracy: 0.9892 - val_loss: 0.0586 - val_accuracy: 0.9784\n",
      "Epoch 8/20\n",
      "2957/2957 [==============================] - 4s 1ms/sample - loss: 0.0323 - accuracy: 0.9895 - val_loss: 0.0481 - val_accuracy: 0.9824\n",
      "Epoch 9/20\n",
      "2957/2957 [==============================] - 4s 1ms/sample - loss: 0.0307 - accuracy: 0.9905 - val_loss: 0.0849 - val_accuracy: 0.9716\n",
      "Epoch 10/20\n",
      "2957/2957 [==============================] - 4s 1ms/sample - loss: 0.0305 - accuracy: 0.9909 - val_loss: 0.0403 - val_accuracy: 0.9838\n",
      "Epoch 11/20\n",
      "2957/2957 [==============================] - 4s 1ms/sample - loss: 0.0261 - accuracy: 0.9912 - val_loss: 0.0476 - val_accuracy: 0.9797\n",
      "Epoch 12/20\n",
      "2957/2957 [==============================] - 4s 1ms/sample - loss: 0.0165 - accuracy: 0.9949 - val_loss: 0.0347 - val_accuracy: 0.9865\n",
      "Epoch 13/20\n",
      "2957/2957 [==============================] - 4s 1ms/sample - loss: 0.0206 - accuracy: 0.9929 - val_loss: 0.0521 - val_accuracy: 0.9851\n",
      "Epoch 14/20\n",
      "2957/2957 [==============================] - 4s 1ms/sample - loss: 0.0123 - accuracy: 0.9953 - val_loss: 0.0390 - val_accuracy: 0.9851\n",
      "Epoch 15/20\n",
      "2957/2957 [==============================] - 4s 1ms/sample - loss: 0.0104 - accuracy: 0.9970 - val_loss: 0.0330 - val_accuracy: 0.9892\n",
      "Epoch 16/20\n",
      "2957/2957 [==============================] - 4s 1ms/sample - loss: 0.0131 - accuracy: 0.9949 - val_loss: 0.0370 - val_accuracy: 0.9892\n",
      "Epoch 17/20\n",
      "2957/2957 [==============================] - 4s 1ms/sample - loss: 0.0146 - accuracy: 0.9953 - val_loss: 0.0317 - val_accuracy: 0.9919\n",
      "Epoch 18/20\n",
      "2957/2957 [==============================] - 4s 1ms/sample - loss: 0.0143 - accuracy: 0.9949 - val_loss: 0.0581 - val_accuracy: 0.9811\n",
      "Epoch 19/20\n",
      "2957/2957 [==============================] - 4s 1ms/sample - loss: 0.0154 - accuracy: 0.9939 - val_loss: 0.0325 - val_accuracy: 0.9865\n",
      "Epoch 20/20\n",
      "2957/2957 [==============================] - 4s 1ms/sample - loss: 0.0148 - accuracy: 0.9943 - val_loss: 0.0398 - val_accuracy: 0.9851\n"
     ]
    }
   ],
   "source": [
    "model = Sequential()\n",
    "#features_shape = (height, width, depth)\n",
    "\n",
    "# first set of CONV => RELU => POOL layers\n",
    "model.add(Conv2D(20, (5, 5), padding=\"same\", input_shape= features_shape))\n",
    "model.add(Activation(\"relu\"))\n",
    "model.add(MaxPooling2D(pool_size=(2, 2), strides=(2, 2)))\n",
    "\n",
    "# second set of CONV => RELU => POOL layers\n",
    "model.add(Conv2D(50, (5, 5), padding=\"same\"))\n",
    "model.add(Activation(\"relu\"))\n",
    "model.add(MaxPooling2D(pool_size=(2, 2), strides=(2, 2)))\n",
    "\n",
    "# first (and only) set of FC => RELU layers\n",
    "model.add(Flatten())\n",
    "model.add(Dense(500))\n",
    "model.add(Activation(\"relu\"))\n",
    "\n",
    "# softmax classifier\n",
    "model.add(Dense(n_classes, activation='softmax'))\n",
    "\n",
    "model.compile(loss=\"sparse_categorical_crossentropy\", optimizer=\"adam\", metrics=[\"accuracy\"])\n",
    "model.fit(features, label, batch_size=32, epochs=20, validation_split=0.2, callbacks=[tensorboard])\n",
    "model.save(model_name)\n",
    "    "
   ]
  },
  {
   "cell_type": "code",
   "execution_count": null,
   "metadata": {},
   "outputs": [],
   "source": []
  },
  {
   "cell_type": "code",
   "execution_count": null,
   "metadata": {},
   "outputs": [],
   "source": []
  }
 ],
 "metadata": {
  "kernelspec": {
   "display_name": "Python 3",
   "language": "python",
   "name": "python3"
  },
  "language_info": {
   "codemirror_mode": {
    "name": "ipython",
    "version": 3
   },
   "file_extension": ".py",
   "mimetype": "text/x-python",
   "name": "python",
   "nbconvert_exporter": "python",
   "pygments_lexer": "ipython3",
   "version": "3.8.0"
  },
  "toc": {
   "base_numbering": 1,
   "nav_menu": {},
   "number_sections": true,
   "sideBar": true,
   "skip_h1_title": false,
   "title_cell": "Table of Contents",
   "title_sidebar": "Contents",
   "toc_cell": false,
   "toc_position": {},
   "toc_section_display": true,
   "toc_window_display": false
  },
  "varInspector": {
   "cols": {
    "lenName": 16,
    "lenType": 16,
    "lenVar": 40
   },
   "kernels_config": {
    "python": {
     "delete_cmd_postfix": "",
     "delete_cmd_prefix": "del ",
     "library": "var_list.py",
     "varRefreshCmd": "print(var_dic_list())"
    },
    "r": {
     "delete_cmd_postfix": ") ",
     "delete_cmd_prefix": "rm(",
     "library": "var_list.r",
     "varRefreshCmd": "cat(var_dic_list()) "
    }
   },
   "types_to_exclude": [
    "module",
    "function",
    "builtin_function_or_method",
    "instance",
    "_Feature"
   ],
   "window_display": false
  }
 },
 "nbformat": 4,
 "nbformat_minor": 2
}
