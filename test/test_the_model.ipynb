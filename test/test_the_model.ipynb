{
 "cells": [
  {
   "cell_type": "code",
   "execution_count": 17,
   "metadata": {},
   "outputs": [],
   "source": [
    "import cv2\n",
    "import numpy as np\n",
    "import tensorflow as tf\n",
    "import imutils"
   ]
  },
  {
   "cell_type": "code",
   "execution_count": 18,
   "metadata": {},
   "outputs": [],
   "source": [
    "model = tf.keras.models.load_model(\"../model/Line_Following_CNN_v1.h5\")\n",
    "video_path = \"video_test.mp4\""
   ]
  },
  {
   "cell_type": "code",
   "execution_count": 25,
   "metadata": {},
   "outputs": [],
   "source": [
    "\n",
    "   \n",
    "cap = cv2.VideoCapture(video_path)\n",
    "is_not_last_frame = True\n",
    "\n",
    "while is_not_last_frame:\n",
    "    is_not_last_frame, frame = cap.read()\n",
    "    preprocessed_frame = []\n",
    "    \n",
    "    if is_not_last_frame == False:\n",
    "        break\n",
    "\n",
    "    else:\n",
    "        #frame size variables\n",
    "        scale_percent = 30\n",
    "        width = int(frame.shape[1] * scale_percent / 100)\n",
    "        height = int(frame.shape[0] * scale_percent / 100)\n",
    "        dim = (width, height)\n",
    "        \n",
    "\n",
    "        #pre processing frame\n",
    "        rotate = imutils.rotate(frame, 180)\n",
    "        gray = cv2.cvtColor(rotate, cv2.COLOR_BGR2GRAY)\n",
    "        resized = cv2.resize(gray, (32,32))\n",
    "        \n",
    "        #make prediction\n",
    "        prediction_softmax = model.predict(resized.reshape(1, 32, 32, 1))  \n",
    "        \n",
    "        if np.argmax(prediction_softmax) == 0:\n",
    "            text = \"forward\"\n",
    "            start_point = ( int(width/2), height - 50)\n",
    "            end_point = ( int(width/2), height - 70)\n",
    "         \n",
    "        elif np.argmax(prediction_softmax) == 1:\n",
    "            text = \"left\"\n",
    "            start_point = (int(width/2) + 20, height - 50)\n",
    "            end_point = (int(width/2), height - 50)\n",
    "            \n",
    "        elif np.argmax(prediction_softmax) == 2:\n",
    "            text = \"right\"\n",
    "            start_point = (int(width/2), height - 50)\n",
    "            end_point = (int(width/2) + 20, height - 50)\n",
    "            \n",
    "            \n",
    "        #show result\n",
    "        frame_copy = rotate.copy()\n",
    "        frame_copy = cv2.resize(frame_copy, dim)\n",
    "        cv2.putText(frame_copy, text, (50,50), cv2.FONT_HERSHEY_PLAIN, 1, (255,255,255), 2)\n",
    "        cv2.arrowedLine(frame_copy, start_point, end_point, (255,255,255), 2, tipLength = 0.5)  \n",
    "        cv2.imshow(\"result\", frame_copy)\n",
    "        \n",
    "        if cv2.waitKey(1) == ord(\"q\"):\n",
    "            break\n",
    "            \n",
    "            \n",
    "cap.release()\n",
    "cv2.destroyAllWindows()"
   ]
  },
  {
   "cell_type": "code",
   "execution_count": null,
   "metadata": {},
   "outputs": [],
   "source": []
  },
  {
   "cell_type": "code",
   "execution_count": null,
   "metadata": {},
   "outputs": [],
   "source": []
  }
 ],
 "metadata": {
  "kernelspec": {
   "display_name": "Python 3",
   "language": "python",
   "name": "python3"
  },
  "language_info": {
   "codemirror_mode": {
    "name": "ipython",
    "version": 3
   },
   "file_extension": ".py",
   "mimetype": "text/x-python",
   "name": "python",
   "nbconvert_exporter": "python",
   "pygments_lexer": "ipython3",
   "version": "3.8.0"
  },
  "toc": {
   "base_numbering": 1,
   "nav_menu": {},
   "number_sections": true,
   "sideBar": true,
   "skip_h1_title": false,
   "title_cell": "Table of Contents",
   "title_sidebar": "Contents",
   "toc_cell": false,
   "toc_position": {},
   "toc_section_display": true,
   "toc_window_display": false
  },
  "varInspector": {
   "cols": {
    "lenName": 16,
    "lenType": 16,
    "lenVar": 40
   },
   "kernels_config": {
    "python": {
     "delete_cmd_postfix": "",
     "delete_cmd_prefix": "del ",
     "library": "var_list.py",
     "varRefreshCmd": "print(var_dic_list())"
    },
    "r": {
     "delete_cmd_postfix": ") ",
     "delete_cmd_prefix": "rm(",
     "library": "var_list.r",
     "varRefreshCmd": "cat(var_dic_list()) "
    }
   },
   "types_to_exclude": [
    "module",
    "function",
    "builtin_function_or_method",
    "instance",
    "_Feature"
   ],
   "window_display": false
  }
 },
 "nbformat": 4,
 "nbformat_minor": 2
}
